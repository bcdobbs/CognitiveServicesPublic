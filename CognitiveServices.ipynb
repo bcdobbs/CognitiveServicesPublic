{
 "metadata": {
  "language_info": {
   "codemirror_mode": {
    "name": "ipython",
    "version": 3
   },
   "file_extension": ".py",
   "mimetype": "text/x-python",
   "name": "python",
   "nbconvert_exporter": "python",
   "pygments_lexer": "ipython3",
   "version": "3.8.5-final"
  },
  "orig_nbformat": 2,
  "kernelspec": {
   "name": "python3",
   "display_name": "Python 3"
  }
 },
 "nbformat": 4,
 "nbformat_minor": 2,
 "cells": [
  {
   "cell_type": "markdown",
   "metadata": {},
   "source": [
    "# Microsoft Cognitive Services\n",
    "Looking at preping a CSV for transmission to Microsoft Cognitive Services.\n",
    "\n",
    "Current limit to 1000 rows but could make use of code in the following:\n",
    "https://medium.com/@jakewa/review-millions-of-records-using-python-and-azure-cognitive-services-632e86ee226b\n",
    "\n",
    "Consider implementing http://veekaybee.github.io/2020/02/25/secrets/"
   ]
  },
  {
   "cell_type": "markdown",
   "metadata": {},
   "source": [
    "## Import required packages."
   ]
  },
  {
   "cell_type": "code",
   "execution_count": null,
   "metadata": {},
   "outputs": [],
   "source": [
    "import pandas as pd\n",
    "import json\n",
    "import requests"
   ]
  },
  {
   "cell_type": "markdown",
   "metadata": {},
   "source": [
    "## Read and clean csv data into pandas data frame of required format."
   ]
  },
  {
   "cell_type": "code",
   "execution_count": null,
   "metadata": {},
   "outputs": [],
   "source": [
    "# Read CSV data\n",
    "csv_data = pd.read_csv(\"ExampleData.csv\")\n",
    "csv_data.head()"
   ]
  },
  {
   "cell_type": "code",
   "execution_count": null,
   "metadata": {},
   "outputs": [],
   "source": [
    "df = csv_data\n",
    "df[\"language\"] = \"en\"\n",
    "df = df.rename(columns = {\"Id\":\"id\", \"ResponseText\":\"text\"})\n",
    "df = df.drop([\"Question\"], axis=1)\n",
    "df[\"id\"] = df.id.astype(str)\n",
    "\n",
    "col_order = [\"id\", \"language\", \"text\"]\n",
    "df = df[col_order]\n",
    "df.head()"
   ]
  },
  {
   "cell_type": "markdown",
   "metadata": {},
   "source": [
    "## Convert to JSON document for sending to Microsoft API"
   ]
  },
  {
   "cell_type": "code",
   "execution_count": null,
   "metadata": {},
   "outputs": [],
   "source": [
    "documents = {'documents' : eval(df.to_json(orient='records', force_ascii=False)) }\n",
    "display(documents)\n"
   ]
  },
  {
   "cell_type": "markdown",
   "metadata": {},
   "source": [
    "## API Code"
   ]
  },
  {
   "cell_type": "markdown",
   "metadata": {},
   "source": [
    "### User secrets"
   ]
  },
  {
   "cell_type": "code",
   "execution_count": null,
   "metadata": {},
   "outputs": [],
   "source": [
    "# Replace the following with the base url and key from your subscription.\n",
    "subscription_key = \"Put Your Key Here\"\n",
    "base_url = \"https://dobbstextanalytics.cognitiveservices.azure.com/text/analytics/v3.0/\"\n",
    "\n",
    "key_phrase_api_url = base_url + \"keyPhrases\"\n",
    "sentiment_api_url = base_url + \"sentiment\""
   ]
  },
  {
   "cell_type": "markdown",
   "metadata": {},
   "source": [
    "### Key Phrases API Call"
   ]
  },
  {
   "cell_type": "code",
   "execution_count": null,
   "metadata": {},
   "outputs": [],
   "source": [
    "# Set Headers for REST API call\n",
    "headers = {\"Ocp-Apim-Subscription-Key\": subscription_key}\n",
    "\n",
    "# Make request, wait for response\n",
    "response = requests.post(key_phrase_api_url, headers=headers, json=documents)\n",
    "key_phrases = response.json()\n",
    "key_phrases_df = pd.DataFrame(key_phrases['documents'])"
   ]
  },
  {
   "cell_type": "code",
   "execution_count": null,
   "metadata": {},
   "outputs": [],
   "source": [
    "key_phrases_df.head()"
   ]
  },
  {
   "cell_type": "markdown",
   "metadata": {},
   "source": [
    "### Sentiment API Call"
   ]
  },
  {
   "cell_type": "code",
   "execution_count": null,
   "metadata": {},
   "outputs": [],
   "source": [
    "# Make request, wait for response\n",
    "response = requests.post(sentiment_api_url, headers=headers, json=documents)\n",
    "sentiment = response.json()\n",
    "sentiment_df = pd.DataFrame(sentiment['documents'])\n"
   ]
  },
  {
   "cell_type": "code",
   "execution_count": null,
   "metadata": {},
   "outputs": [],
   "source": [
    "sentiment_df.head()"
   ]
  },
  {
   "cell_type": "code",
   "execution_count": null,
   "metadata": {},
   "outputs": [],
   "source": [
    "#Export to csv\n",
    "key_phrases_df.to_csv(\"KeyPhrases.csv\")\n",
    "sentiment_df.to_csv(\"Sentiment.csv\")\n",
    "\n",
    "#Power Bi works with the raw json more easily\n",
    "with open('key_phrases.json', 'w') as f:\n",
    "    json.dump(key_phrases,f)\n",
    "\n",
    "with open('sentiment.json', 'w') as f:\n",
    "    json.dump(sentiment,f)"
   ]
  }
 ]
}